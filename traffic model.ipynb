{
 "cells": [
  {
   "cell_type": "code",
   "execution_count": 60,
   "metadata": {},
   "outputs": [],
   "source": [
    "import numpy as np\n",
    "import pandas as pd\n",
    "import os\n",
    "import matplotlib.pyplot as plt"
   ]
  },
  {
   "cell_type": "code",
   "execution_count": 61,
   "metadata": {},
   "outputs": [],
   "source": [
    "from pathlib import Path\n"
   ]
  },
  {
   "cell_type": "code",
   "execution_count": 62,
   "metadata": {},
   "outputs": [],
   "source": [
    "from keras.preprocessing import image"
   ]
  },
  {
   "cell_type": "code",
   "execution_count": 63,
   "metadata": {},
   "outputs": [
    {
     "name": "stdout",
     "output_type": "stream",
     "text": [
      "390\n",
      "0\n",
      "390\n",
      "1\n",
      "390\n",
      "10\n",
      "390\n",
      "11\n",
      "390\n",
      "12\n",
      "390\n",
      "13\n",
      "390\n",
      "14\n",
      "390\n",
      "15\n",
      "390\n",
      "16\n",
      "390\n",
      "17\n",
      "390\n",
      "18\n",
      "390\n",
      "19\n",
      "390\n",
      "2\n",
      "390\n",
      "20\n",
      "390\n",
      "21\n",
      "390\n",
      "22\n",
      "390\n",
      "23\n",
      "390\n",
      "24\n",
      "390\n",
      "25\n",
      "390\n",
      "26\n",
      "390\n",
      "27\n",
      "390\n",
      "28\n",
      "390\n",
      "29\n",
      "390\n",
      "3\n",
      "390\n",
      "30\n",
      "390\n",
      "31\n",
      "390\n",
      "32\n",
      "390\n",
      "33\n",
      "390\n",
      "34\n",
      "390\n",
      "35\n",
      "390\n",
      "36\n",
      "390\n",
      "37\n",
      "390\n",
      "38\n",
      "390\n",
      "39\n",
      "390\n",
      "4\n",
      "390\n",
      "40\n",
      "390\n",
      "41\n",
      "390\n",
      "42\n",
      "390\n",
      "5\n",
      "390\n",
      "6\n",
      "390\n",
      "7\n",
      "390\n",
      "8\n",
      "390\n",
      "9\n"
     ]
    }
   ],
   "source": [
    "p = Path(\"./traffic dataset/myData/\")\n",
    "dirs = p.glob(\"*\")\n",
    "    \n",
    "image_data=[]\n",
    "labels = []\n",
    "cnt=0\n",
    "\n",
    "for folder_dir in dirs:\n",
    "    label = str(folder_dir).split(\"\\\\\")[-1]\n",
    "    cnt=0\n",
    "    i=0\n",
    "    \n",
    "    for img_path in folder_dir.glob(\"*.jpg\"):\n",
    "        if i==390:\n",
    "            break\n",
    "            \n",
    "        img = image.load_img(img_path,target_size=(40,40))\n",
    "        img_array = image.img_to_array(img)\n",
    "        image_data.append(img_array)\n",
    "        \n",
    "        label=int(label)\n",
    "        \n",
    "        labels.append(label)\n",
    "        cnt += 1\n",
    "        i+=1\n",
    "        \n",
    "    print(cnt)\n",
    "    \n",
    "    print(label)\n"
   ]
  },
  {
   "cell_type": "code",
   "execution_count": 64,
   "metadata": {},
   "outputs": [],
   "source": [
    "import numpy as np"
   ]
  },
  {
   "cell_type": "code",
   "execution_count": 65,
   "metadata": {},
   "outputs": [
    {
     "name": "stdout",
     "output_type": "stream",
     "text": [
      "16770\n",
      "16770\n"
     ]
    }
   ],
   "source": [
    "print(len(image_data))\n",
    "print(len(labels))"
   ]
  },
  {
   "cell_type": "code",
   "execution_count": 66,
   "metadata": {},
   "outputs": [],
   "source": [
    "import random\n",
    "random.seed(10)"
   ]
  },
  {
   "cell_type": "code",
   "execution_count": 67,
   "metadata": {},
   "outputs": [],
   "source": [
    "X = np.array(image_data)\n",
    "Y = np.array(labels)"
   ]
  },
  {
   "cell_type": "code",
   "execution_count": 68,
   "metadata": {},
   "outputs": [
    {
     "name": "stdout",
     "output_type": "stream",
     "text": [
      "(16770, 40, 40, 3)\n"
     ]
    }
   ],
   "source": [
    "print(X.shape)"
   ]
  },
  {
   "cell_type": "code",
   "execution_count": 69,
   "metadata": {},
   "outputs": [
    {
     "name": "stdout",
     "output_type": "stream",
     "text": [
      "(16770, 40, 40, 3)\n"
     ]
    }
   ],
   "source": [
    "from sklearn.utils import shuffle\n",
    "X,Y = shuffle(X,Y,random_state=2)\n",
    "\n",
    "#Normalisation\n",
    "X = X/255.0\n",
    "print(X.shape)"
   ]
  },
  {
   "cell_type": "code",
   "execution_count": 70,
   "metadata": {},
   "outputs": [
    {
     "name": "stdout",
     "output_type": "stream",
     "text": [
      "[ 2 24 24 ... 36 24 14]\n",
      "<class 'numpy.int32'>\n"
     ]
    }
   ],
   "source": [
    "from keras.utils import np_utils\n",
    "print(Y)\n",
    "print(type(Y[0]))\n",
    "\n"
   ]
  },
  {
   "cell_type": "code",
   "execution_count": 71,
   "metadata": {},
   "outputs": [],
   "source": [
    "def drawImg(img,label):\n",
    "    plt.title(label)\n",
    "    plt.imshow(img)\n",
    "    plt.style.use(\"seaborn\")\n",
    "    plt.axis(\"off\")\n",
    "    plt.show()"
   ]
  },
  {
   "cell_type": "code",
   "execution_count": 72,
   "metadata": {},
   "outputs": [
    {
     "data": {
      "image/png": "[encoded data removed]",
      "text/plain": [
       "<Figure size 576x396 with 1 Axes>"
      ]
     },
     "metadata": {},
     "output_type": "display_data"
    },
    {
     "data": {
      "image/png": "[encoded data removed]",
      "text/plain": [
       "<Figure size 576x396 with 1 Axes>"
      ]
     },
     "metadata": {},
     "output_type": "display_data"
    },
    {
     "data": {
      "image/png": "[encoded data removed]",
      "text/plain": [
       "<Figure size 576x396 with 1 Axes>"
      ]
     },
     "metadata": {},
     "output_type": "display_data"
    },
    {
     "data": {
      "image/png": "[encoded data removed]",
      "text/plain": [
       "<Figure size 576x396 with 1 Axes>"
      ]
     },
     "metadata": {},
     "output_type": "display_data"
    },
    {
     "data": {
      "image/png": "[encoded data removed]",
      "text/plain": [
       "<Figure size 576x396 with 1 Axes>"
      ]
     },
     "metadata": {},
     "output_type": "display_data"
    },
    {
     "data": {
      "image/png": "[encoded data removed]",
      "text/plain": [
       "<Figure size 576x396 with 1 Axes>"
      ]
     },
     "metadata": {},
     "output_type": "display_data"
    },
    {
     "data": {
      "image/png": "[encoded data removed]",
      "text/plain": [
       "<Figure size 576x396 with 1 Axes>"
      ]
     },
     "metadata": {},
     "output_type": "display_data"
    },
    {
     "data": {
      "image/png": "[encoded data removed]",
      "text/plain": [
       "<Figure size 576x396 with 1 Axes>"
      ]
     },
     "metadata": {},
     "output_type": "display_data"
    },
    {
     "data": {
      "image/png": "[encoded data removed]",
      "text/plain": [
       "<Figure size 576x396 with 1 Axes>"
      ]
     },
     "metadata": {},
     "output_type": "display_data"
    }
   ],
   "source": [
    "for i in range(1,10):\n",
    "    drawImg(X[i].reshape(40,40,3),Y[i])  "
   ]
  },
  {
   "cell_type": "code",
   "execution_count": 73,
   "metadata": {},
   "outputs": [
    {
     "name": "stdout",
     "output_type": "stream",
     "text": [
      "12577\n",
      "12577\n",
      "(40, 40, 3)\n",
      "[11 41 31 ... 21 31 37]\n",
      "(4193,)\n"
     ]
    }
   ],
   "source": [
    "from keras.utils import np_utils\n",
    "from sklearn import model_selection\n",
    "# split = int(X.shape[0]*.8)\n",
    "\n",
    "X_ = np.array(X)\n",
    "Y_ = np.array(Y)\n",
    "\n",
    "x_train,x_test,y_train,y_test=model_selection.train_test_split(X_,Y_)\n",
    "print(x_train.shape[0])\n",
    "print(y_train.shape[0])\n",
    "print(x_train.shape[1:])\n",
    "y1=y_train\n",
    "y2=y_test\n",
    "\n",
    "\n",
    "print(y_train)\n",
    "print((y_test.shape))"
   ]
  },
  {
   "cell_type": "code",
   "execution_count": 74,
   "metadata": {},
   "outputs": [],
   "source": [
    "y_train=np_utils.to_categorical(y_train)\n",
    "y_test=np_utils.to_categorical(y_test)"
   ]
  },
  {
   "cell_type": "markdown",
   "metadata": {},
   "source": []
  },
  {
   "cell_type": "code",
   "execution_count": 75,
   "metadata": {},
   "outputs": [],
   "source": [
    "import keras\n",
    "from keras.models import Sequential\n",
    "from keras.layers import *\n",
    "from keras.utils import *\n",
    "import tensorflow"
   ]
  },
  {
   "cell_type": "code",
   "execution_count": 76,
   "metadata": {},
   "outputs": [
    {
     "name": "stdout",
     "output_type": "stream",
     "text": [
      "Model: \"sequential_2\"\n",
      "_________________________________________________________________\n",
      "Layer (type)                 Output Shape              Param #   \n",
      "=================================================================\n",
      "conv2d_8 (Conv2D)            (None, 36, 36, 32)        2432      \n",
      "_________________________________________________________________\n",
      "conv2d_9 (Conv2D)            (None, 32, 32, 32)        25632     \n",
      "_________________________________________________________________\n",
      "max_pooling2d_4 (MaxPooling2 (None, 16, 16, 32)        0         \n",
      "_________________________________________________________________\n",
      "dropout_6 (Dropout)          (None, 16, 16, 32)        0         \n",
      "_________________________________________________________________\n",
      "conv2d_10 (Conv2D)           (None, 14, 14, 64)        18496     \n",
      "_________________________________________________________________\n",
      "conv2d_11 (Conv2D)           (None, 12, 12, 64)        36928     \n",
      "_________________________________________________________________\n",
      "max_pooling2d_5 (MaxPooling2 (None, 6, 6, 64)          0         \n",
      "_________________________________________________________________\n",
      "dropout_7 (Dropout)          (None, 6, 6, 64)          0         \n",
      "_________________________________________________________________\n",
      "flatten_2 (Flatten)          (None, 2304)              0         \n",
      "_________________________________________________________________\n",
      "dense_4 (Dense)              (None, 256)               590080    \n",
      "_________________________________________________________________\n",
      "dropout_8 (Dropout)          (None, 256)               0         \n",
      "_________________________________________________________________\n",
      "dense_5 (Dense)              (None, 43)                11051     \n",
      "=================================================================\n",
      "Total params: 684,619\n",
      "Trainable params: 684,619\n",
      "Non-trainable params: 0\n",
      "_________________________________________________________________\n"
     ]
    }
   ],
   "source": [
    "model=Sequential()\n",
    "model.add(Conv2D(32,(5,5),activation='relu',input_shape=(40,40,3)))\n",
    "model.add(Conv2D(32,(5,5),activation='relu'))\n",
    "model.add(MaxPool2D(2,2))\n",
    "model.add(Dropout(0.25))\n",
    "model.add(Convolution2D(64,(3,3),activation='relu'))\n",
    "model.add(Convolution2D(64,(3,3),activation='relu'))\n",
    "model.add(MaxPool2D(2,2))\n",
    "model.add(Dropout(0.25))\n",
    "model.add(Flatten())\n",
    "model.add(Dense(256,activation='relu'))\n",
    "model.add(Dropout(0.5))\n",
    "model.add(Dense(43,activation='softmax'))\n",
    "model.summary()\n",
    "\n",
    "model.compile(loss=\"categorical_crossentropy\",optimizer=\"adam\",metrics=[\"accuracy\"])"
   ]
  },
  {
   "cell_type": "code",
   "execution_count": 77,
   "metadata": {},
   "outputs": [
    {
     "name": "stdout",
     "output_type": "stream",
     "text": [
      "Epoch 1/15\n",
      "40/40 [==============================] - 69s 2s/step - loss: 3.6842 - accuracy: 0.0441 - val_loss: 2.4904 - val_accuracy: 0.3994\n",
      "Epoch 2/15\n",
      "40/40 [==============================] - 63s 2s/step - loss: 2.3079 - accuracy: 0.3834 - val_loss: 0.9593 - val_accuracy: 0.7778\n",
      "Epoch 3/15\n",
      "40/40 [==============================] - 59s 1s/step - loss: 1.1552 - accuracy: 0.6666 - val_loss: 0.4021 - val_accuracy: 0.8911\n",
      "Epoch 4/15\n",
      "40/40 [==============================] - 65s 2s/step - loss: 0.6604 - accuracy: 0.8037 - val_loss: 0.2206 - val_accuracy: 0.9543\n",
      "Epoch 5/15\n",
      "40/40 [==============================] - 64s 2s/step - loss: 0.4179 - accuracy: 0.8712 - val_loss: 0.1384 - val_accuracy: 0.9722\n",
      "Epoch 6/15\n",
      "40/40 [==============================] - 64s 2s/step - loss: 0.2907 - accuracy: 0.9127 - val_loss: 0.0914 - val_accuracy: 0.9769\n",
      "Epoch 7/15\n",
      "40/40 [==============================] - 66s 2s/step - loss: 0.2373 - accuracy: 0.9256 - val_loss: 0.0600 - val_accuracy: 0.9869\n",
      "Epoch 8/15\n",
      "40/40 [==============================] - 64s 2s/step - loss: 0.1695 - accuracy: 0.9480 - val_loss: 0.0476 - val_accuracy: 0.9893\n",
      "Epoch 9/15\n",
      "40/40 [==============================] - 65s 2s/step - loss: 0.1688 - accuracy: 0.9484 - val_loss: 0.0483 - val_accuracy: 0.9901\n",
      "Epoch 10/15\n",
      "40/40 [==============================] - 63s 2s/step - loss: 0.1281 - accuracy: 0.9619 - val_loss: 0.0350 - val_accuracy: 0.9928\n",
      "Epoch 11/15\n",
      "40/40 [==============================] - 63s 2s/step - loss: 0.1051 - accuracy: 0.9659 - val_loss: 0.0300 - val_accuracy: 0.9924\n",
      "Epoch 12/15\n",
      "40/40 [==============================] - 63s 2s/step - loss: 0.0812 - accuracy: 0.9745 - val_loss: 0.0317 - val_accuracy: 0.9924\n",
      "Epoch 13/15\n",
      "40/40 [==============================] - 64s 2s/step - loss: 0.0787 - accuracy: 0.9748 - val_loss: 0.0222 - val_accuracy: 0.9948\n",
      "Epoch 14/15\n",
      "40/40 [==============================] - 64s 2s/step - loss: 0.0763 - accuracy: 0.9772 - val_loss: 0.0265 - val_accuracy: 0.9932\n",
      "Epoch 15/15\n",
      "40/40 [==============================] - 64s 2s/step - loss: 0.0654 - accuracy: 0.9789 - val_loss: 0.0195 - val_accuracy: 0.9952\n"
     ]
    }
   ],
   "source": [
    "hist = model.fit(x_train,y_train,epochs=15,shuffle=True,batch_size=256,validation_split=0.20)"
   ]
  },
  {
   "cell_type": "code",
   "execution_count": 78,
   "metadata": {},
   "outputs": [],
   "source": [
    "model.save(\"my_model.h5\")"
   ]
  },
  {
   "cell_type": "code",
   "execution_count": 79,
   "metadata": {},
   "outputs": [],
   "source": [
    "from sklearn.metrics import accuracy_score"
   ]
  },
  {
   "cell_type": "code",
   "execution_count": 80,
   "metadata": {},
   "outputs": [
    {
     "name": "stderr",
     "output_type": "stream",
     "text": [
      "c:\\users\\91999\\lib\\site-packages\\tensorflow\\python\\keras\\engine\\sequential.py:450: UserWarning: `model.predict_classes()` is deprecated and will be removed after 2021-01-01. Please use instead:* `np.argmax(model.predict(x), axis=-1)`,   if your model does multi-class classification   (e.g. if it uses a `softmax` last-layer activation).* `(model.predict(x) > 0.5).astype(\"int32\")`,   if your model does binary classification   (e.g. if it uses a `sigmoid` last-layer activation).\n",
      "  warnings.warn('`model.predict_classes()` is deprecated and '\n"
     ]
    }
   ],
   "source": [
    "pred = model.predict_classes(x_test)"
   ]
  },
  {
   "cell_type": "code",
   "execution_count": 81,
   "metadata": {},
   "outputs": [
    {
     "name": "stdout",
     "output_type": "stream",
     "text": [
      "<class 'numpy.int64'>\n"
     ]
    }
   ],
   "source": [
    "print(type(pred[0]))"
   ]
  },
  {
   "cell_type": "code",
   "execution_count": null,
   "metadata": {},
   "outputs": [],
   "source": []
  },
  {
   "cell_type": "code",
   "execution_count": null,
   "metadata": {},
   "outputs": [],
   "source": [
    "print(pred.shape)"
   ]
  },
  {
   "cell_type": "code",
   "execution_count": 83,
   "metadata": {},
   "outputs": [
    {
     "name": "stderr",
     "output_type": "stream",
     "text": [
      "c:\\users\\91999\\lib\\site-packages\\tensorflow\\python\\keras\\engine\\sequential.py:450: UserWarning: `model.predict_classes()` is deprecated and will be removed after 2021-01-01. Please use instead:* `np.argmax(model.predict(x), axis=-1)`,   if your model does multi-class classification   (e.g. if it uses a `softmax` last-layer activation).* `(model.predict(x) > 0.5).astype(\"int32\")`,   if your model does binary classification   (e.g. if it uses a `sigmoid` last-layer activation).\n",
      "  warnings.warn('`model.predict_classes()` is deprecated and '\n"
     ]
    },
    {
     "name": "stdout",
     "output_type": "stream",
     "text": [
      "Train Acc 0.9987\n",
      "Test Acc 0.9950\n"
     ]
    }
   ],
   "source": [
    "def getAccuracy(X,Y,model):\n",
    "    outputs = model.predict_classes(X)\n",
    "    acc = np.sum(outputs==Y)/Y.shape[0]\n",
    "    return acc\n",
    "    \n",
    "print(\"Train Acc %.4f\"%getAccuracy(x_train,y1,model))\n",
    "print(\"Test Acc %.4f\"%getAccuracy(x_test,y2,model))"
   ]
  },
  {
   "cell_type": "code",
   "execution_count": 84,
   "metadata": {},
   "outputs": [
    {
     "name": "stdout",
     "output_type": "stream",
     "text": [
      "[15 35  5 35 19 17 41 38 13  9]\n"
     ]
    }
   ],
   "source": [
    "print(pred[:10])"
   ]
  },
  {
   "cell_type": "code",
   "execution_count": 87,
   "metadata": {},
   "outputs": [
    {
     "name": "stdout",
     "output_type": "stream",
     "text": [
      "[15 35  5 35 19 17 41 38 13  9]\n"
     ]
    }
   ],
   "source": [
    "print(y2[:10])"
   ]
  },
  {
   "cell_type": "code",
   "execution_count": null,
   "metadata": {},
   "outputs": [],
   "source": []
  }
 ],
 "metadata": {
  "kernelspec": {
   "display_name": "Python 3",
   "language": "python",
   "name": "python3"
  },
  "language_info": {
   "codemirror_mode": {
    "name": "ipython",
    "version": 3
   },
   "file_extension": ".py",
   "mimetype": "text/x-python",
   "name": "python",
   "nbconvert_exporter": "python",
   "pygments_lexer": "ipython3",
   "version": "3.8.6"
  }
 },
 "nbformat": 4,
 "nbformat_minor": 4
}
